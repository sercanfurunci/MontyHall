{
  "metadata": {
    "language_info": {
      "codemirror_mode": {
        "name": "python",
        "version": 3
      },
      "file_extension": ".py",
      "mimetype": "text/x-python",
      "name": "python",
      "nbconvert_exporter": "python",
      "pygments_lexer": "ipython3",
      "version": "3.8"
    },
    "kernelspec": {
      "name": "python",
      "display_name": "Pyolite",
      "language": "python"
    }
  },
  "nbformat_minor": 4,
  "nbformat": 4,
  "cells": [
    {
      "cell_type": "code",
      "source": "#Listeleri döndürmek için Numpy yerine Random modülü kullanıldı\nimport random",
      "metadata": {
        "trusted": true
      },
      "execution_count": 21,
      "outputs": []
    },
    {
      "cell_type": "code",
      "source": "#shuffle() ögeleri rastgele getirir\ndoors = ['car', 'goat', 'goat']\nrandom.shuffle(doors)\ndoors",
      "metadata": {
        "trusted": true
      },
      "execution_count": 22,
      "outputs": [
        {
          "execution_count": 22,
          "output_type": "execute_result",
          "data": {
            "text/plain": "['car', 'goat', 'goat']"
          },
          "metadata": {}
        }
      ]
    },
    {
      "cell_type": "code",
      "source": "#random.choice() ile rastgele kapı seçildi\nmy_door_index = random.choice([0, 1, 2])\nmy_door_index",
      "metadata": {
        "trusted": true
      },
      "execution_count": 23,
      "outputs": [
        {
          "execution_count": 23,
          "output_type": "execute_result",
          "data": {
            "text/plain": "0"
          },
          "metadata": {}
        }
      ]
    },
    {
      "cell_type": "code",
      "source": "#Seçilen kapı listeden kaldırıldı\nstay_result = doors.pop(my_door_index)\nstay_result",
      "metadata": {
        "trusted": true
      },
      "execution_count": 24,
      "outputs": [
        {
          "execution_count": 24,
          "output_type": "execute_result",
          "data": {
            "text/plain": "'car'"
          },
          "metadata": {}
        }
      ]
    },
    {
      "cell_type": "code",
      "source": "#Seçilecek 2 kapı kaldı\ndoors",
      "metadata": {
        "trusted": true
      },
      "execution_count": 25,
      "outputs": [
        {
          "execution_count": 25,
          "output_type": "execute_result",
          "data": {
            "text/plain": "['goat', 'goat']"
          },
          "metadata": {}
        }
      ]
    },
    {
      "cell_type": "code",
      "source": "#Kapının arkadındaki bir keçi kaldırılır\ndoors.remove('goat')\ndoors",
      "metadata": {
        "trusted": true
      },
      "execution_count": 26,
      "outputs": [
        {
          "execution_count": 26,
          "output_type": "execute_result",
          "data": {
            "text/plain": "['goat']"
          },
          "metadata": {}
        }
      ]
    },
    {
      "cell_type": "code",
      "source": "#Tek bir kapı kaldı. Bu kapının arkasındaki, orijinal kapımızdan geçişin sonucudur.\nswitch_result = doors[0]\nswitch_result",
      "metadata": {
        "trusted": true
      },
      "execution_count": 27,
      "outputs": [
        {
          "execution_count": 27,
          "output_type": "execute_result",
          "data": {
            "text/plain": "'goat'"
          },
          "metadata": {}
        }
      ]
    },
    {
      "cell_type": "code",
      "source": "#10000 deneme\nn_tries = 100000\n#Elde edilen sonuçları saklamak için listeler\nstay_results = []\nswitch_results = []\nfor i in range(n_tries):\n    doors = ['car', 'goat', 'goat']\n    random.shuffle(doors)\n    my_door_index = random.choice([0, 1, 2])\n    stay_result = doors.pop(my_door_index)\n    doors.remove('goat')\n    switch_result = doors[0]\n    #Sonuçlar listelere yerleştirilir\n    stay_results.append(stay_result)\n    switch_results.append(switch_result)",
      "metadata": {
        "trusted": true
      },
      "execution_count": 28,
      "outputs": []
    },
    {
      "cell_type": "code",
      "source": "#Her listedeki “araba” öğesinin sayısını saymak ve başarıların oranını elde etmek için listenin uzunluğuna bölünür\nstay_results.count('car') / n_tries",
      "metadata": {
        "trusted": true
      },
      "execution_count": 29,
      "outputs": [
        {
          "execution_count": 29,
          "output_type": "execute_result",
          "data": {
            "text/plain": "0.33403"
          },
          "metadata": {}
        }
      ]
    },
    {
      "cell_type": "code",
      "source": "switch_results.count('car') / n_tries",
      "metadata": {
        "trusted": true
      },
      "execution_count": 30,
      "outputs": [
        {
          "execution_count": 30,
          "output_type": "execute_result",
          "data": {
            "text/plain": "0.66597"
          },
          "metadata": {}
        }
      ]
    }
  ]
}